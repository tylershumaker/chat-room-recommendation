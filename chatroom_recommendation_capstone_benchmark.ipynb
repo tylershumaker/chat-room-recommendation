{
 "cells": [
  {
   "cell_type": "markdown",
   "metadata": {
    "collapsed": true
   },
   "source": [
    "# Machine Learning Nanodegree Capstone\n",
    "# Chat Room Recommendation Benchmark"
   ]
  },
  {
   "cell_type": "code",
   "execution_count": 3,
   "metadata": {},
   "outputs": [],
   "source": [
    "import os"
   ]
  },
  {
   "cell_type": "markdown",
   "metadata": {},
   "source": [
    "### Load Data"
   ]
  },
  {
   "cell_type": "code",
   "execution_count": 4,
   "metadata": {},
   "outputs": [],
   "source": [
    "# path will need to be changed pending on where the repo is cloned to\n",
    "os.chdir(os.path.expanduser('~/PycharmProjects/chat-room-recommendation/'))\n",
    "lines = open('cornell-movie-dialogs-corpus/movie_lines.txt','r').read().split('\\n')\n",
    "conv_lines = open('cornell-movie-dialogs-corpus/movie_conversations.txt','r').read().split('\\n')\n",
    "character_metadata = open('cornell-movie-dialogs-corpus/movie_characters_metadata.txt','r').read().split('\\n')\n",
    "movie_metadata = open('cornell-movie-dialogs-corpus/movie_titles_metadata.txt','r').read().split('\\n')"
   ]
  },
  {
   "cell_type": "code",
   "execution_count": 5,
   "metadata": {},
   "outputs": [
    {
     "name": "stderr",
     "output_type": "stream",
     "text": [
      "Using TensorFlow backend.\n"
     ]
    }
   ],
   "source": [
    "from gensim import utils\n",
    "movieLines = {}\n",
    "for line in lines:\n",
    "    _line = line.split(' +++$+++ ')\n",
    "    if len(_line) == 5:\n",
    "        if _line[2] in movieLines: \n",
    "            movieLines[_line[2]] = movieLines.get(_line[2]) + utils.simple_preprocess(_line[4])\n",
    "        else:\n",
    "            movieLines[_line[2]] = utils.simple_preprocess(_line[4])"
   ]
  },
  {
   "cell_type": "code",
   "execution_count": 5,
   "metadata": {},
   "outputs": [],
   "source": [
    "id2line = {}\n",
    "for line in lines:\n",
    "    _line = line.split(' +++$+++ ')\n",
    "    if len(_line) == 5:\n",
    "        id2line[_line[0]] = _line[4]"
   ]
  },
  {
   "cell_type": "code",
   "execution_count": 7,
   "metadata": {},
   "outputs": [],
   "source": [
    "characterConversations = {}\n",
    "for line in conv_lines:\n",
    "    _line = line.split(' +++$+++ ')\n",
    "    if len(_line) == 4:\n",
    "        _line[3] = _line[3].strip(\"[]\")\n",
    "        for conv in _line[3].split(\",\"):\n",
    "            conv = conv.replace(\"'\",\"\").replace(\" \", \"\")\n",
    "            if _line[0] in characterConversations:\n",
    "                characterConversations[_line[0]] = characterConversations.get(_line[0]) + \\\n",
    "                                                   utils.simple_preprocess(id2line.get(str(conv)))\n",
    "            else:\n",
    "                characterConversations[_line[0]] = utils.simple_preprocess(id2line.get(str(conv)))\n",
    "\n",
    "            if _line[1] in characterConversations:\n",
    "                characterConversations[_line[1]] = characterConversations.get(_line[1]) + \\\n",
    "                                                   utils.simple_preprocess(id2line.get(str(conv)))\n",
    "            else:\n",
    "                characterConversations[_line[1]] = utils.simple_preprocess(id2line.get(str(conv)))"
   ]
  },
  {
   "cell_type": "code",
   "execution_count": 8,
   "metadata": {},
   "outputs": [],
   "source": [
    "# function that creates corpus (list of TaggedDocmuments) from dictionaries\n",
    "from gensim.models.doc2vec import TaggedDocument\n",
    "\n",
    "\n",
    "def create_corpus(dictname):\n",
    "    corpus_list =[]\n",
    "    for key, value in dictname.iteritems():\n",
    "        corpus_list.append(TaggedDocument(value, [int(key[1:])]))\n",
    "    return corpus_list"
   ]
  },
  {
   "cell_type": "code",
   "execution_count": 9,
   "metadata": {},
   "outputs": [],
   "source": [
    "train_corpus = create_corpus(movieLines)\n",
    "test_corpus = create_corpus(characterConversations)"
   ]
  },
  {
   "cell_type": "markdown",
   "metadata": {},
   "source": [
    "Instantiate a Doc2Vec Object\n",
    "Load model saved from chatroom_recommendation_capstone.ipynb"
   ]
  },
  {
   "cell_type": "code",
   "execution_count": 10,
   "metadata": {},
   "outputs": [],
   "source": [
    "# load model if saved during a previous session\n",
    "from gensim.models import Doc2Vec\n",
    "\n",
    "model = Doc2Vec.load('/tmp/movie_model.doc2vec')"
   ]
  },
  {
   "cell_type": "markdown",
   "metadata": {},
   "source": [
    "## Utility functions"
   ]
  },
  {
   "cell_type": "code",
   "execution_count": 11,
   "metadata": {},
   "outputs": [],
   "source": [
    "# get character metadata by id\n",
    "def get_character_metadata(id):\n",
    "    for character in character_metadata:\n",
    "        _character = character.split(' +++$+++ ')\n",
    "        if len(_character) == 6:\n",
    "            if _character[0] == 'u'+str(id):\n",
    "                return _character\n",
    "        \n",
    "           \n",
    "def get_movie_title(id):\n",
    "    for movie in movie_metadata:\n",
    "        _movie = movie.split(' +++$+++ ')\n",
    "        if len(_movie) == 6:\n",
    "            if _movie[0] == 'm'+str(id):\n",
    "                return _movie[1]\n",
    "            \n",
    "            \n",
    "# create def to look up tag doc in corpus by tag id\n",
    "def get_corpus_index(corpus, tag):\n",
    "    for tag_index in range(len(corpus)):\n",
    "        if corpus[tag_index].tags[0] == tag:\n",
    "            return tag_index\n",
    "        \n",
    "        \n",
    "def get_movie_genres(id):\n",
    "    for movie in movie_metadata:\n",
    "        _movie = movie.split(' +++$+++ ')\n",
    "        if len(_movie) == 6:\n",
    "            if _movie[0] == 'm'+str(id):\n",
    "                return _movie[5]"
   ]
  },
  {
   "cell_type": "code",
   "execution_count": 12,
   "metadata": {},
   "outputs": [],
   "source": [
    "# find similarity of movie character is from and index \n",
    "def get_source_similarity(sim_list, movie_id):\n",
    "    for sim_index in range(len(sim_list)):\n",
    "        if int(movie_id[1:]) == sim_list[sim_index][0]:\n",
    "            return get_movie_title(sim_list[sim_index][0]), sim_index, sim_list[sim_index][1]\n",
    "        \n",
    "        \n",
    "# print top 5 recommended movies\n",
    "def get_recommended_movies(sim_list):\n",
    "    print('\\nTop 5\\n {}\\n {}\\n {}\\n {}\\n {}\\n'.format(get_movie_title(sim_list[0][0]), get_movie_title(sim_list[1][0]), \n",
    "                                                get_movie_title(sim_list[2][0]), get_movie_title(sim_list[3][0]),\n",
    "                                                get_movie_title(sim_list[4][0])))\n",
    "    \n",
    "    \n",
    "def display_character_similarity(char_id, show_words):\n",
    "    inferred_vector = model.infer_vector(test_corpus[char_id].words)\n",
    "    test_sims = model.docvecs.most_similar([inferred_vector], topn=len(model.docvecs))\n",
    "    character_metadata = get_character_metadata(char_id)\n",
    "    print('Character : {}\\n ID : {}\\n Movie : {}'.format(character_metadata[1], character_metadata[2], \n",
    "                                                         character_metadata[3]))\n",
    "    if show_words :\n",
    "        print('Test Document ({}): «{}»\\n'.format(char_id, ' '.join(test_corpus[get_corpus_index(test_corpus, char_id)].words)))\n",
    "    print test_sims[:10]\n",
    "    get_recommended_movies(test_sims)\n",
    "    print get_source_similarity(test_sims, character_metadata[2]), '\\n'\n",
    "    \n",
    "    \n",
    "def get_doc2vec_similarity(char_id):\n",
    "    inferred_vector = model.infer_vector(test_corpus[char_id].words)\n",
    "    test_sims = model.docvecs.most_similar([inferred_vector], topn=len(model.docvecs))\n",
    "\n",
    "    return test_sims[:10]"
   ]
  },
  {
   "cell_type": "code",
   "execution_count": 13,
   "metadata": {},
   "outputs": [
    {
     "name": "stdout",
     "output_type": "stream",
     "text": [
      "Movie title : star wars\nMovie id : 529\n\nMODEL Doc2Vec(dm/m,d50,n5,w5,mc2,s0.001,t3):\n\nstar wars\n(529, 0.9877308011054993)\n"
     ]
    }
   ],
   "source": [
    "# quick test of loaded model\n",
    "inferred_vector = model.infer_vector(train_corpus[get_corpus_index(train_corpus, 529)].words)\n",
    "sims = model.docvecs.most_similar([inferred_vector], topn=len(model.docvecs))\n",
    "\n",
    "print('Movie title : {}\\nMovie id : {}\\n'.format(get_movie_title(train_corpus[get_corpus_index(train_corpus, 529)].tags[0]), train_corpus[get_corpus_index(train_corpus, 529)].tags[0]))\n",
    "print(u'MODEL %s:\\n' % model)\n",
    "\n",
    "print get_movie_title(train_corpus[get_corpus_index(train_corpus, sims[0][0])].tags[0])\n",
    "print sims[0]"
   ]
  },
  {
   "cell_type": "markdown",
   "metadata": {},
   "source": [
    "## Benchmark\n",
    "A content-based recommendation system will be used a benchmark model. TF-IDF (Term Frequency - Inverse Document Frequency) will be used to parse all of the conversations for each character and also all of the conversations for each movie. Cosine similarity will be used to determine which conversations are closest to each other"
   ]
  },
  {
   "cell_type": "code",
   "execution_count": 14,
   "metadata": {},
   "outputs": [],
   "source": [
    "tfidf_movie_lines = {}\n",
    "for line in lines:\n",
    "    _line = line.split(' +++$+++ ')\n",
    "    if len(_line) == 5:\n",
    "        _write_line = _line[4].replace(\",\", \"\").decode('iso-8859-1').encode('utf8')\n",
    "        if _line[2] in tfidf_movie_lines: \n",
    "            tfidf_movie_lines[_line[2]] = tfidf_movie_lines.get(_line[2]) + _write_line\n",
    "        else:\n",
    "            tfidf_movie_lines[_line[2]] = _write_line"
   ]
  },
  {
   "cell_type": "code",
   "execution_count": 15,
   "metadata": {},
   "outputs": [
    {
     "name": "stdout",
     "output_type": "stream",
     "text": [
      "Correct # of movies\n"
     ]
    }
   ],
   "source": [
    "# sanity check that there are the appropriate number of movies in the tfidf_movie_lines dict\n",
    "print \"Correct # of movies\" if len(tfidf_movie_lines) == 617 else \"something went wrong with movieLines dict\""
   ]
  },
  {
   "cell_type": "code",
   "execution_count": 16,
   "metadata": {},
   "outputs": [],
   "source": [
    "def create_tfidf_corpus(dictname):\n",
    "    corpus_str = \"\"\"id,description\"\"\"\n",
    "    for key, value in dictname.iteritems():\n",
    "        corpus_str += '\\n' + key[1:] + ',' + value \n",
    "    return corpus_str"
   ]
  },
  {
   "cell_type": "code",
   "execution_count": 17,
   "metadata": {},
   "outputs": [],
   "source": [
    "tfidf_train_corpus = create_tfidf_corpus(tfidf_movie_lines)"
   ]
  },
  {
   "cell_type": "code",
   "execution_count": 18,
   "metadata": {},
   "outputs": [],
   "source": [
    "def tfidf_get_character_lines(char_id):  \n",
    "    character_conv = {}\n",
    "    char_id = 'u' + str(char_id)\n",
    "    for line in conv_lines:\n",
    "        _line = line.split(' +++$+++ ')\n",
    "        if len(_line) == 4:\n",
    "            _line[3] = _line[3].strip(\"[]\")\n",
    "            for conv in _line[3].split(\",\"):\n",
    "                conv = conv.replace(\"'\",\"\").replace(\" \", \"\")\n",
    "                _char_write_line = id2line.get(str(conv)).replace(\",\", \"\").decode('iso-8859-1').encode('utf8')\n",
    "                if _line[0] == char_id:\n",
    "                    if _line[0] in character_conv:\n",
    "                        character_conv[_line[0]] = character_conv.get(_line[0]) + _char_write_line\n",
    "                    else:\n",
    "                        character_conv[_line[0]] = _char_write_line\n",
    "                if _line[1] == char_id:\n",
    "                    if _line[1] in character_conv:\n",
    "                        character_conv[_line[1]] = character_conv.get(_line[1]) + _char_write_line\n",
    "                    else:\n",
    "                        character_conv[_line[1]] = _char_write_line\n",
    "    char_str = \"\"\"\"\"\"                    \n",
    "    for key, value in character_conv.iteritems():\n",
    "        char_str += '\\n' + key[1:] + ',' + value\n",
    "    return char_str"
   ]
  },
  {
   "cell_type": "code",
   "execution_count": 19,
   "metadata": {},
   "outputs": [
    {
     "name": "stdout",
     "output_type": "stream",
     "text": [
      "\n1220,Besides it's historically inaccurate.What the fuck are you talking about?Michael Meyers never used a meat cleaver.  It was a butcher knife.Who are you the serial killer police?  What difference does it make?It's not historically accurate that's all.Another historical inaccuracy.Would somebody shut this guy up?\n"
     ]
    }
   ],
   "source": [
    "print tfidf_get_character_lines(1220)"
   ]
  },
  {
   "cell_type": "code",
   "execution_count": 20,
   "metadata": {},
   "outputs": [],
   "source": [
    "tmp_train_corpus = tfidf_train_corpus + tfidf_get_character_lines(1220)"
   ]
  },
  {
   "cell_type": "code",
   "execution_count": 21,
   "metadata": {},
   "outputs": [],
   "source": [
    "import pandas as pd\n",
    "from sklearn.feature_extraction.text import TfidfVectorizer\n",
    "from sklearn.metrics.pairwise import linear_kernel\n",
    "from StringIO import StringIO\n",
    "\n",
    "\n",
    "sim_list = []\n",
    "\n",
    "\n",
    "def _train(ds):\n",
    "\n",
    "    tf = TfidfVectorizer(analyzer='word', ngram_range=(1, 3), min_df=0, stop_words='english')\n",
    "    tfidf_matrix = tf.fit_transform(ds['description'])\n",
    "    \n",
    "    cosine_similarities = linear_kernel(tfidf_matrix, tfidf_matrix)\n",
    "\n",
    "    for idx, row in ds.iterrows():\n",
    "        similar_indices = cosine_similarities[idx].argsort()[:-100:-1]\n",
    "        similar_items = [(ds['id'][i], cosine_similarities[idx][i]) for i in similar_indices]\n",
    "\n",
    "        # First item is the item itself, so remove it.\n",
    "        sim_list.append([row['id'], similar_items[1:]])    \n",
    "\n",
    "\n",
    "def predict(item_id, num):\n",
    "    for sim in sim_list:\n",
    "        if item_id == sim[0]:\n",
    "            if num < len(sim[1]):\n",
    "                return sim[1][:num]\n",
    "            else:\n",
    "                return sim[1]"
   ]
  },
  {
   "cell_type": "code",
   "execution_count": 22,
   "metadata": {},
   "outputs": [],
   "source": [
    "# Train tf-idf for character 1220\n",
    "test_data = StringIO(tmp_train_corpus)\n",
    "ds = pd.read_csv(test_data)\n",
    "_train(ds)"
   ]
  },
  {
   "cell_type": "code",
   "execution_count": 23,
   "metadata": {
    "collapsed": false
   },
   "outputs": [
    {
     "name": "stdout",
     "output_type": "stream",
     "text": [
      "Character EDDIE from halloween h20: 20 years later ['drama', 'horror', 'thriller']\n"
     ]
    },
    {
     "name": "stdout",
     "output_type": "stream",
     "text": [
      "Character ID :1220  |tf-idf                                            |genre                                             |doc2vec                                           |genre\nRecommendation 1    |halloween h20: 20 years later                     |['drama', 'horror', 'thriller']                   |halloween                                         |['horror', 'thriller']\nRecommendation 2    |the witching hour                                 |['documentary', 'short']                          |what women want                                   |['comedy', 'fantasy', 'romance']\nRecommendation 3    |copycat                                           |['crime', 'mystery', 'thriller']                  |a nightmare on elm street 4: the dream master     |['fantasy', 'horror', 'thriller']\nRecommendation 4    |the lost boys                                     |['comedy', 'fantasy', 'horror', 'thriller']       |a nightmare on elm street part 2: freddy's revenge|['fantasy', 'horror', 'thriller']\nRecommendation 5    |suspect zero                                      |['crime', 'horror', 'sci-fi', 'thriller']         |friday the 13th part iii                          |['horror']\nRecommendation 6    |the godfather: part ii                            |['crime', 'drama', 'thriller']                    |seven days to live                                |['drama', 'horror', 'thriller']\nRecommendation 7    |my best friend's wedding                          |['comedy', 'romance']                             |what lies beneath                                 |['drama', 'horror', 'mystery', 'thriller']\nRecommendation 8    |scream                                            |['crime', 'horror', 'mystery', 'thriller']        |a nightmare on elm street: the dream child        |['fantasy', 'horror', 'thriller']\nRecommendation 9    |the big lebowski                                  |['comedy', 'crime', 'mystery']                    |a nightmare on elm street                         |['horror']\nRecommendation 10   |halloween: the curse of michael myers             |['horror', 'thriller']                            |a nightmare on elm street 3: dream warriors       |['fantasy', 'horror', 'thriller']\n"
     ]
    }
   ],
   "source": [
    "test_id = 1220\n",
    "tfidf_result = predict(test_id, 10)\n",
    "doc2vec_result = get_doc2vec_similarity(test_id)\n",
    "\n",
    "test_character_metadata = get_character_metadata(test_id)\n",
    "print(\"Character {} from {} {}\".format(test_character_metadata[1], test_character_metadata[3], \n",
    "                                       get_movie_genres(int(test_character_metadata[2][1:]))))\n",
    "\n",
    "display_results = []\n",
    "display_results.append([\"Character ID :\" + str(test_id), \"tf-idf\", \"genre\", \"doc2vec\", \"genre\"])\n",
    "\n",
    "for idx, item in enumerate(doc2vec_result):   \n",
    "    display_results.append(['Recommendation ' + str(idx+1), get_movie_title(tfidf_result[idx][0]), get_movie_genres(tfidf_result[idx][0]), get_movie_title(item[0]), get_movie_genres(item[0])])\n",
    "\n",
    "for item in display_results:\n",
    "    print(item[0]+\" \"*(20-len(item[0]))+\"|\"+\n",
    "          item[1]+\" \"*(50-len(item[1]))+\"|\"+\n",
    "          item[2]+\" \"*(50-len(item[2]))+\"|\"+\n",
    "          item[3]+\" \"*(50-len(item[3]))+\"|\"+\n",
    "          item[4])"
   ]
  },
  {
   "cell_type": "code",
   "execution_count": 24,
   "metadata": {},
   "outputs": [],
   "source": [
    "# 1223\n",
    "tmp_train_corpus = tfidf_train_corpus + tfidf_get_character_lines(1223)\n",
    "test_data = StringIO(tmp_train_corpus)\n",
    "ds = pd.read_csv(test_data)\n",
    "_train(ds)"
   ]
  },
  {
   "cell_type": "code",
   "execution_count": 25,
   "metadata": {
    "collapsed": false
   },
   "outputs": [
    {
     "name": "stdout",
     "output_type": "stream",
     "text": [
      "Character KERI from halloween h20: 20 years later ['drama', 'horror', 'thriller']\n"
     ]
    },
    {
     "name": "stdout",
     "output_type": "stream",
     "text": [
      "Character ID :1223  |tf-idf                                            |genre                                             |doc2vec                                           |genre\nRecommendation 1    |halloween h20: 20 years later                     |['drama', 'horror', 'thriller']                   |midnight express                                  |['biography', 'crime', 'drama', 'thriller']\nRecommendation 2    |sex, lies, and videotape                          |['drama']                                         |the black dahlia                                  |['crime', 'drama', 'history', 'mystery', 'thriller']\nRecommendation 3    |hannah and her sisters                            |['comedy', 'drama', 'romance']                    |the getaway                                       |['action', 'adventure', 'crime', 'thriller']\nRecommendation 4    |u-turn                                            |['drama']                                         |what women want                                   |['comedy', 'fantasy', 'romance']\nRecommendation 5    |casino                                            |['biography', 'crime', 'drama']                   |kalifornia                                        |['crime', 'drama', 'thriller']\nRecommendation 6    |magnolia                                          |['drama']                                         |beavis and butt-head do america                   |['animation', 'adventure', 'comedy', 'crime']\nRecommendation 7    |ghost world                                       |['comedy', 'drama']                               |the french connection                             |['action', 'crime', 'thriller']\nRecommendation 8    |glengarry glen ross                               |['drama']                                         |dog day afternoon                                 |['crime', 'drama']\nRecommendation 9    |suburbia                                          |['comedy', 'drama']                               |lost highway                                      |['drama', 'horror', 'mystery', 'thriller']\nRecommendation 10   |the horse whisperer                               |['drama', 'romance', 'western']                   |the salton sea                                    |['crime', 'drama', 'mystery', 'thriller']\n"
     ]
    }
   ],
   "source": [
    "test_id = 1223\n",
    "tfidf_result = predict(test_id, 10)\n",
    "doc2vec_result = get_doc2vec_similarity(test_id)\n",
    "\n",
    "test_character_metadata = get_character_metadata(test_id)\n",
    "print(\"Character {} from {} {}\".format(test_character_metadata[1], test_character_metadata[3], \n",
    "                                       get_movie_genres(int(test_character_metadata[2][1:]))))\n",
    "display_results = []\n",
    "display_results.append([\"Character ID :\" + str(test_id), \"tf-idf\", \"genre\", \"doc2vec\", \"genre\"])\n",
    "\n",
    "for idx, item in enumerate(doc2vec_result):   \n",
    "    display_results.append(['Recommendation ' + str(idx+1), get_movie_title(tfidf_result[idx][0]), get_movie_genres(tfidf_result[idx][0]), \n",
    "                            get_movie_title(item[0]), get_movie_genres(item[0])])\n",
    "\n",
    "for item in display_results:\n",
    "    print(item[0]+\" \"*(20-len(item[0]))+\"|\"+\n",
    "          item[1]+\" \"*(50-len(item[1]))+\"|\"+\n",
    "          item[2]+\" \"*(50-len(item[2]))+\"|\"+\n",
    "          item[3]+\" \"*(50-len(item[3]))+\"|\"+\n",
    "          item[4])"
   ]
  },
  {
   "cell_type": "code",
   "execution_count": 26,
   "metadata": {
    "collapsed": true
   },
   "outputs": [
    {
     "name": "stdout",
     "output_type": "stream",
     "text": [
      "Character HAN from star wars ['action', 'adventure', 'fantasy', 'sci-fi']\nCharacter ID :7821  |tf-idf                                            |genre                                             |doc2vec                                           |genre\nRecommendation 1    |star wars                                         |['action', 'adventure', 'fantasy', 'sci-fi']      |house of 1000 corpses                             |['horror']\nRecommendation 2    |star wars: the empire strikes back                |['animation', 'adventure', 'action', 'fantasy']   |what women want                                   |['comedy', 'fantasy', 'romance']\nRecommendation 3    |star wars: episode vi - return of the jedi        |['action', 'adventure', 'fantasy', 'sci-fi']      |hellbound: hellraiser ii                          |['drama', 'horror', 'thriller']\nRecommendation 4    |u-turn                                            |['drama']                                         |the black dahlia                                  |['crime', 'drama', 'history', 'mystery', 'thriller']\nRecommendation 5    |it happened one night                             |['comedy', 'romance']                             |kalifornia                                        |['crime', 'drama', 'thriller']\nRecommendation 6    |broadcast news                                    |['comedy', 'drama', 'romance']                    |fear and loathing in las vegas                    |['drama', 'fantasy']"
     ]
    },
    {
     "name": "stdout",
     "output_type": "stream",
     "text": [
      "\nRecommendation 7    |three kings                                       |['action', 'adventure', 'comedy', 'drama', 'war'] |mulholland dr.                                    |['drama', 'mystery', 'thriller']\nRecommendation 8    |smoke                                             |['comedy', 'drama']                               |a nightmare on elm street part 2: freddy's revenge|['fantasy', 'horror', 'thriller']\nRecommendation 9    |the horse whisperer                               |['drama', 'romance', 'western']                   |halloween                                         |['horror', 'thriller']\nRecommendation 10   |shampoo                                           |['drama', 'romance']                              |the salton sea                                    |['crime', 'drama', 'mystery', 'thriller']\nCharacter LUKE from star wars ['action', 'adventure', 'fantasy', 'sci-fi']\n"
     ]
    },
    {
     "name": "stdout",
     "output_type": "stream",
     "text": [
      "Character ID :7824  |tf-idf                                            |genre                                             |doc2vec                                           |genre\nRecommendation 1    |star wars                                         |['action', 'adventure', 'fantasy', 'sci-fi']      |house of 1000 corpses                             |['horror']\nRecommendation 2    |star wars: the empire strikes back                |['animation', 'adventure', 'action', 'fantasy']   |slither                                           |['comedy', 'horror', 'sci-fi']\nRecommendation 3    |star wars: episode vi - return of the jedi        |['action', 'adventure', 'fantasy', 'sci-fi']      |there's something about mary                      |['comedy', 'romance']\nRecommendation 4    |broadcast news                                    |['comedy', 'drama', 'romance']                    |a nightmare on elm street part 2: freddy's revenge|['fantasy', 'horror', 'thriller']\nRecommendation 5    |the horse whisperer                               |['drama', 'romance', 'western']                   |friday the 13th                                   |['horror']\nRecommendation 6    |smoke                                             |['comedy', 'drama']                               |the salton sea                                    |['crime', 'drama', 'mystery', 'thriller']\nRecommendation 7    |it happened one night                             |['comedy', 'romance']                             |sugar & spice                                     |['comedy', 'crime']\nRecommendation 8    |sex, lies, and videotape                          |['drama']                                         |gone in sixty seconds                             |['action', 'crime', 'thriller']\nRecommendation 9    |u-turn                                            |['drama']                                         |a nightmare on elm street                         |['horror']\nRecommendation 10   |cool hand luke                                    |['crime', 'drama']                                |kids                                              |['crime', 'drama']\n"
     ]
    }
   ],
   "source": [
    "# u7821 +++$+++ HAN +++$+++ m529\n",
    "test_id = 7821\n",
    "tmp_train_corpus = tfidf_train_corpus + tfidf_get_character_lines(7821)\n",
    "test_data = StringIO(tmp_train_corpus)\n",
    "ds = pd.read_csv(test_data)\n",
    "_train(ds)\n",
    "\n",
    "tfidf_result = predict(test_id, 10)\n",
    "doc2vec_result = get_doc2vec_similarity(test_id)\n",
    "\n",
    "test_character_metadata = get_character_metadata(test_id)\n",
    "print(\"Character {} from {} {}\".format(test_character_metadata[1], test_character_metadata[3], \n",
    "                                       get_movie_genres(int(test_character_metadata[2][1:]))))\n",
    "display_results = []\n",
    "display_results.append([\"Character ID :\" + str(test_id), \"tf-idf\", \"genre\", \"doc2vec\", \"genre\"])\n",
    "\n",
    "for idx, item in enumerate(doc2vec_result):   \n",
    "    display_results.append(['Recommendation ' + str(idx+1), get_movie_title(tfidf_result[idx][0]), get_movie_genres(tfidf_result[idx][0]), \n",
    "                            get_movie_title(item[0]), get_movie_genres(item[0])])\n",
    "\n",
    "for item in display_results:\n",
    "    print(item[0]+\" \"*(20-len(item[0]))+\"|\"+\n",
    "          item[1]+\" \"*(50-len(item[1]))+\"|\"+\n",
    "          item[2]+\" \"*(50-len(item[2]))+\"|\"+\n",
    "          item[3]+\" \"*(50-len(item[3]))+\"|\"+\n",
    "          item[4])\n",
    "    \n",
    "# u7824 +++$+++ LUKE +++$+++ m529\n",
    "test_id = 7824\n",
    "tmp_train_corpus = tfidf_train_corpus + tfidf_get_character_lines(7824)\n",
    "test_data = StringIO(tmp_train_corpus)\n",
    "ds = pd.read_csv(test_data)\n",
    "_train(ds)\n",
    "\n",
    "tfidf_result = predict(test_id, 10)\n",
    "doc2vec_result = get_doc2vec_similarity(test_id)\n",
    "\n",
    "test_character_metadata = get_character_metadata(test_id)\n",
    "print(\"Character {} from {} {}\".format(test_character_metadata[1], test_character_metadata[3], \n",
    "                                       get_movie_genres(int(test_character_metadata[2][1:]))))\n",
    "display_results = []\n",
    "display_results.append([\"Character ID :\" + str(test_id), \"tf-idf\", \"genre\", \"doc2vec\", \"genre\"])\n",
    "\n",
    "for idx, item in enumerate(doc2vec_result):   \n",
    "    display_results.append(['Recommendation ' + str(idx+1), get_movie_title(tfidf_result[idx][0]), get_movie_genres(tfidf_result[idx][0]), \n",
    "                            get_movie_title(item[0]), get_movie_genres(item[0])])\n",
    "\n",
    "for item in display_results:\n",
    "    print(item[0]+\" \"*(20-len(item[0]))+\"|\"+\n",
    "          item[1]+\" \"*(50-len(item[1]))+\"|\"+\n",
    "          item[2]+\" \"*(50-len(item[2]))+\"|\"+\n",
    "          item[3]+\" \"*(50-len(item[3]))+\"|\"+\n",
    "          item[4])\n",
    "    \n",
    "# random character\n",
    "# test_id = random.randint(0, len(test_corpus))\n",
    "# tmp_train_corpus = tfidf_train_corpus + tfidf_get_character_lines(test_id)\n",
    "# test_data = StringIO(tmp_train_corpus)\n",
    "# ds = pd.read_csv(test_data)\n",
    "# _train(ds)\n",
    "# tfidf_result = predict(test_id, 10)\n",
    "# doc2vec_result = get_doc2vec_similarity(test_id)\n",
    "# \n",
    "# test_character_metadata = get_character_metadata(test_id)\n",
    "# print(\"Character {} from {} {}\".format(test_character_metadata[1], test_character_metadata[3], \n",
    "#                                        get_movie_genres(int(test_character_metadata[2][1:]))))\n",
    "# display_results = []\n",
    "# display_results.append([\"Character ID :\" + str(test_id), \"tf-idf\", \"genre\", \"doc2vec\", \"genre\"])\n",
    "# \n",
    "# for idx, item in enumerate(doc2vec_result):   \n",
    "#     display_results.append(['Recommendation ' + str(idx+1), get_movie_title(tfidf_result[idx][0]), get_movie_genres(tfidf_result[idx][0]), \n",
    "#                             get_movie_title(item[0]), get_movie_genres(item[0])])\n",
    "# \n",
    "# for item in display_results:\n",
    "#     print(item[0]+\" \"*(20-len(item[0]))+\"|\"+\n",
    "#           item[1]+\" \"*(50-len(item[1]))+\"|\"+\n",
    "#           item[2]+\" \"*(50-len(item[2]))+\"|\"+\n",
    "#           item[3]+\" \"*(50-len(item[3]))+\"|\"+\n",
    "#           item[4])"
   ]
  },
  {
   "cell_type": "code",
   "execution_count": 27,
   "metadata": {},
   "outputs": [
    {
     "name": "stdout",
     "output_type": "stream",
     "text": [
      "Test Document (7821): «han solo captain of this vessel who in charge then ben kenobi luke starkiller here is leading our expedition well we ll see you might get your stuff together we ll be coming up on organa major soon the empire must have gotten here first the planet has been totally blown away it would have taken thousand ships with lot more fire power than ve ever seen if the empire had new weapon that could do this would have heard something know about it well now you know the enemy is on the move we haven much time well ve brought you here what now we have to find he rebels what we re carrying belongs to them their bases are very well hidden all the power of the empire can find them do you know where they are no not anymore not taking you on an impossible search across the galaxy was only paid to get you here and now you re here ll take my other five thousand and you re on your own ll leave you on the nearest system well for one reason we don have your other five thousand who going to pay me then think there are some things we should talk about beginning not to like you how much do you think she talking about million at least if this robot has information related to the destruction of organa major you ll be able to name the reward anything want now that interesting luke got point fear is their greatest defense doubt if the actual security there is much greater than on aquilae or sullust and what there is is most likely directed toward large scale assault this isn game you know kid you take the glory and the good intentions and ll take the reward fear is their greatest weapon not afraid of anything you have your father style you ve done very well not bad we re into the second perimeter they ll be coming out to blast us shortly was wondering if you had some kind of plan or are we going to try to blast our way in check your data banks for all the information you have on imperial procedures both of you will have to learn we re going to get in by studying imperial procedures don like it all right then we ll use your plan ll get the information and want you to start cleaning the equipment out of the scan shielded compartments what do you want with our scan proof lockers darth vader is on this system can feel him can feel the kiber crystal is that good or bad it not good unless could find the crystal then it could be very good don look at me just pilot got you here you ve got to do the rest there is greater risk in staying here you know if you don find the princess then the whole trip was for nothing wasn it not going out there that straight through the central core up toward the top of the city once you ve got her avoid the main transports they ll shut down immediately your only chance is through the service shafts there are no sensors there all right now get going you don have time hope you can remember everything we ll be back before you are old man may the force be with you put that thing away or you re going to get us all killed yes your highness ll let you open it then it won be too long before they figure out what happened to us this has turned into brilliant escape it could be worse here come six more grid two was this trip really necessary there are only three or four left chewbacca it time we showed them this isn the regulation cargo trawler all the data banks in artoo are still secure then think we re due the reward you offered and it had better be substantial after what we ve been through when artoo has been safely delivered to my forces you get your reward you have my guarantee what that little droid carrying that so blasted important the plans and specifications to battle station with enough fire power to destroy an entire system our only hope in destroying it is to find its weakness which we will determine from the data stored in artoo we captured the plans in raid on the imperial shipyards but we fell under attack before could get the data to safety so hid it in this artoo unit and sent him off where are you taking us now anyway the fourth moon of yavin ve given the coordinates to chewbacca better go see how he doing don see how we re going to find anything out here this terrain is hopeless did it occur to you they might find us we must hurry to the base we have little time before the death star arrives like to get paid before that eventually don plan to stick around for the fireworks what about us are we to wait forever is our reward to be blown to bits on this forsaken system while your fleet mounts some suicidal attack on that death star part of my reward is that be around to spend it have little time for your mercenary concerns but am grateful for the service you have given to our cause what is your price organa major is rebel system there will be quite few starfleet patrols between here and there it could be little tricky if you want to avoid them ten thousand that pretty steep we like to talk it over first you got yourself ship we can leave as soon as you re ready we have little business to take care of first but it shouldn take long we ll be back shortly who the pilot it automatic keep that thing close just in case if were you ve been around from one end of the galaxy to the other and believe me this force of others stuff may make for good religion but there is no substitute for good weapon at your side you don believe in the force sorcery believe in myself determine my destiny not some mystical energy field found it it just not there what are you saying you can we ve come this far we must find them why maybe you should just drop us off sure we can find someone willing to take the risk all right all right you ve got ship but where do we go from here they probably took her to find the hidden bases don see how we can find the rebels before she breaks the empire has already beat us out no it impossible no one and mean no one would venture anywhere near the alderaan system free booter not revolutionary you re aboard the wrong ship son maybe the fact that no one would go there voluntarily could help us they probably don think anyone would dare try don you believe it well practice lot you re good with remotes but how are you against something living don know ve never fought anyone between his howling and your blasting everything in sight the entire city is going to know we re here good prefer straight fight to all this sneaking around this isn going to work why didn you say so before think did something has happened to them let try this way let try this way holy maker see threepio come in see threepio wonder where they are see threepio think she going to be all right not if this tunnel deadends is he afraid of the water no he smells something but we haven time to worry about it now watch it move back get chewbacca try to get around it ll draw it away it only light that doesn affect it solid things like rocks can hurt it fire above him move out of the way get to the ship come back here where are you going don pick up any life form concentration down there she better be right they must be shielded somehow sure the base is there well if it not we ll be facing that death star all by our lonesome you re good pilot ve learned lot from you wish you know but the chances for survival here just aren great enough in my book ve got what came for now ve got to get back to my ship noticed you were having some problems blue five thought help thanks old buddy ll be with you in second»\n\nTest Document (529): «may the force be with you we ll be back before you are old man that straight through the central core up toward the top of the city once you ve got her avoid the main transports they ll shut down immediately your only chance is through the service shafts there are no sensors there all right now get going you don have time hope you can remember everything not going out there there is greater risk in staying here you know if you don find the princess then the whole trip was for nothing wasn it don look at me just pilot got you here you ve got to do the rest it not good unless could find the crystal then it could be very good is that good or bad darth vader is on this system can feel him can feel the kiber crystal what do you want with our scan proof lockers and want you to start cleaning the equipment out of the scan shielded compartments ll get the information all right then we ll use your plan we re going to get in by studying imperial procedures don like it check your data banks for all the information you have on imperial procedures both of you will have to learn we re into the second perimeter they ll be coming out to blast us shortly was wondering if you had some kind of plan or are we going to try to blast our way in not bad you have your father style you ve done very well not afraid of anything fear is their greatest weapon kid you take the glory and the good intentions and ll take the reward this isn game you know luke got point fear is their greatest defense doubt if the actual security there is much greater than on aquilae or sullust and what there is is most likely directed toward large scale assault anything want now that interesting million at least if this robot has information related to the destruction of organa major you ll be able to name the reward how much do you think she talking about beginning not to like you think there are some things we should talk about who going to pay me then well for one reason we don have your other five thousand not taking you on an impossible search across the galaxy was only paid to get you here and now you re here ll take my other five thousand and you re on your own ll leave you on the nearest system no not anymore their bases are very well hidden all the power of the empire can find them do you know where they are we have to find he rebels what we re carrying belongs to them well ve brought you here what now well now you know the enemy is on the move we haven much time the planet has been totally blown away it would have taken thousand ships with lot more fire power than ve ever seen if the empire had new weapon that could do this would have heard something know about it the empire must have gotten here first you might get your stuff together we ll be coming up on organa major soon well we ll see ben kenobi luke starkiller here is leading our expedition han solo captain of this vessel who in charge then keep it with you always you ll have more need of it than it will bring the force to you you ve already learned to feel it now you must learn to use it the kiber crystal not going alone you go after the princess am an old man and would be of little help must try to find the crystal what about the princess don get it but guess did block it see once you let yourself go you can do it you ll get it stop thinking and start feeling let yourself go can do it ll get hit try to feel it use the force can see how can fight didn say that but it appears to be logical alternative you mean we should go after her but she is the only link between us and the hidden bases he can find organa major what is it all you have to do is lose your thinking self don focus on anything let your body do your thinking you have to learn to act on what you feel not what you think if had the crystal it would be much easier you could feel the force immediately but for now let yourself go you ll pick it up and someday you ll have no need for that pistol either what do do rarely use it any more have the force the force is more powerful than any pistol you shouldn put too much faith in that weapon work on becoming aware of the force learn to feel its presence within you try to sense what it telling you it the only thing you can rely on are you sure you don need it yes the force something horrible has happened couldn see what it was or where it was but it was terrible terrible beyond description the cry of millions dying at once are you all right keep away fine fine what wrong what happening these are doubtful times the empire has grown bold in its disregard of the but she member of the twelve families how can they hold her doubt it it would be foolish for the rebel forces to come out of hiding know your feelings you best forget them it for your own good there will be no saving her from the prisons of alderaan it the heart of the sith the bogan force is the most heavy there when we get artoo message to them you think they ll try to rescue the princess he bluffing this is the last place shouldn we just take what we can get and think of something else five maybe let me handle it we don have that kind of money how much do you think can get for the speeder there are two halves of the force of others one is positive and will help you if you learn how to use it but the others half will kill you if you aren careful this negative side of the force is called the bogan which is where the expression came from and it is the part that is used by the dark lords to destroy their opponents both halves are always present the force is on your right the bogan is on your left the kiber crystal can amplify either one the crystal darth stole was the last one in the possession of the jedi when he joined the sith the power of the dark lords was completed like bogan weather or bogan times thought that was just saying they use the bogan force do the sith know the ways of the force yes it was black day one of my disciple took the crystal and became sith lord it was black day the few crystals that remain are in the possession of the sith lords on alderaan that how they ve become so powerful that where my father was killed had one but it was taken at the battle of condawn don you have kiber crystal when creature dies the force it generated remains the force is all around us it can be collected and transmitted through the use of kiber crystal it the only way to amplify the power of the force within you how can you store an energy field within you jedi power is measured by the amount of the force that is stored within him and have little of the force left in me but you re still powerful jedi you don need my help luke coming along to do what can but tired and depending on you to get us through it means you better get some rest we ll be leaving for mos eisley first thing in the morning the trip will be difficult and dangerous but it the only spaceport with ships large enough to get us to organa major now go on what do you mean that is not human decision not your or mine could learn to feel it it surrounds you and radiates from you jedi can feel it flowing from him from here you mean generate an energy field let just say the force is something jedi warrior deals with it is an energy field in oneself power that controls ones acts yet obeys ones commands it is nothing yet it makes marvels appear before your very eyes all living things generate this force field even you my father used to talk about the force of others but he never told me what it was you were right it is my responsibility the force of others brought the message to you and then it brought you to me not any more but the sith lords are involved whatever information this unit is carrying it must be awfully important they re probably looking for him no match for the sith this is jedi work this is your responsibility already know you think you re worthless recommend you learn to think of yourself in better light for what you believe you are is what you become haven been involved in anything like this for many years but you must can do it alone not at all like my father never make it afraid ve gotten too old for this sort of thing my father told me many stories about you he said if was ever in trouble to come here need your help know your intentions probably know much more about you than you realize in many ways you re lot like your father he was an indulgent man but clever warrior now what brings you out here assure you my intentions weren bad you could put it that way you saw through me know that not bendu officer not even startrooper but you are know your diary of the clone wars by heart my father know who you are stand up so that we can talk properly you re embarrassing me not that important am the son of annikin starkiller don see why don believe we ve ever met afraid it been long time since the white legions roamed the stars but have the memories you re general kenobi the jedi knight the commander of the white legions you might say part of the landscape here they call me ben kenobi who are you anyway of course bendu officer oh so you re warrior then luke starkiller guardian of the bendu you re lucky those tuskens didn boil you before they hung you out to dry they re not the friendly sort you best be moving on before they come back couldn we have tried to think of something else first sorry but that was the only way to get you down all of them altogether you seem to have gotten yourself into fine mess what happened what do you mean good morning do you mean that it is good morning for you or do you wish me good morning although it is obvious not having one or do you find that mornings in general are good good morning just be warned that things aren always as they seem especially the starforce recruiting posters at least you re doing something give anything to be in your position the academy is fantastic of course they won teach you anything about flying you don already know most of the instructors are very conservative pilots you can fly circles around them but there is lot on the scientific side that is down right amazing and you get lot of discipline but after you graduate don join the star force go free lance it the only way to get into the action can wait until my hitch is up but you always said things were so great at the academy what happened ll tell you luke and this is between you and me the star force isn all it cracked up to be frankly it bore and it going to stay that way as long as this system is neutral but there was lot of firing earlier that no battle kid they re just sitting there you look great the uniform and everything of course where you been kid forget it son yes sir but can get him blue five break off your cover attack it too late make your own run on the exhaust port do you copy luke what that right behind you blue leader ve got it blocked all right blue five does that glare bother you yes sir six hours huh well that your ship there you re blue five you stay glued to me don want any independent operations out there personally think it foolish for them to be sending fresh kids out on job like this this is no joy ride we re going on yes sir was considered one of the best bush pilots on sullust ve also had six hours on the have you been checked out yes sir you re starkiller send out boarding party full assault gear we don get many visitors let take look at it send one squad up as close as we can make out it appears to be corellian gypsy vessel it not under power ll make report later should we alert the sith lords alert squad five but hold them until we know what it is no reply on any circuits it drifting on point twenty seven skew it not close enough to identify have little time for your mercenary concerns but am grateful for the service you have given to our cause what is your price what about us are we to wait forever is our reward to be blown to bits on this forsaken system while your fleet mounts some suicidal attack on that death star part of my reward is that be around to spend it like to get paid before that eventually don plan to stick around for the fireworks we must hurry to the base we have little time before the death star arrives did it occur to you they might find us don see how we re going to find anything out here this terrain is hopeless better go see how he doing the fourth moon of yavin ve given the coordinates to chewbacca where are you taking us now anyway we captured the plans in raid on the imperial shipyards but we fell under attack before could get the data to safety so hid it in this artoo unit and sent him off the plans and specifications to battle station with enough fire power to destroy an entire system our only hope in destroying it is to find its weakness which we will determine from the data stored in artoo what that little droid carrying that so blasted important when artoo has been safely delivered to my forces you get your reward you have my guarantee then think we re due the reward you offered and it had better be substantial after what we ve been through all the data banks in artoo are still secure chewbacca it time we showed them this isn the regulation cargo trawler there are only three or four left was this trip really necessary here come six more grid two it could be worse yes your highness ll let you open it then it won be too long before they figure out what happened to us this has turned into brilliant escape put that thing away or you re going to get us all killed thanks old buddy ll be with you in second noticed you were having some problems blue five thought help know but the chances for survival here just aren great enough in my book ve got what came for now ve got to get back to my ship you re good pilot ve learned lot from you wish you well if it not we ll be facing that death star all by our lonesome they must be shielded somehow sure the base is there don pick up any life form concentration down there she better be right come back here where are you going get to the ship move out of the way it only light that doesn affect it solid things like rocks can hurt it fire above him get chewbacca try to get around it ll draw it away watch it move back no he smells something but we haven time to worry about it now is he afraid of the water not if this tunnel deadends think she going to be all right see threepio come in see threepio wonder where they are see threepio let try this way holy maker something has happened to them let try this way think did why didn you say so before this isn going to work good prefer straight fight to all this sneaking around between his howling and your blasting everything in sight the entire city is going to know we re here don know ve never fought anyone you re good with remotes but how are you against something living well practice lot don you believe it maybe the fact that no one would go there voluntarily could help us they probably don think anyone would dare try no it impossible no one and mean no one would venture anywhere near the alderaan system free booter not revolutionary you re aboard the wrong ship son all right all right you ve got ship but where do we go from here they probably took her to find the hidden bases don see how we can find the rebels before she breaks the empire has already beat us out maybe you should just drop us off sure we can find someone willing to take the risk why you can we ve come this far we must find them what are you saying found it it just not there sorcery believe in myself determine my destiny not some mystical energy field you don believe in the force keep that thing close just in case if were you ve been around from one end of the galaxy to the other and believe me this force of others stuff may make for good religion but there is no substitute for good weapon at your side it automatic who the pilot we have little business to take care of first but it shouldn take long we ll be back shortly you got yourself ship we can leave as soon as you re ready that pretty steep we like to talk it over first organa major is rebel system there will be quite few starfleet patrols between here and there it could be little tricky if you want to avoid them ten thousand who is this what your operating the ah door jammed give us few minutes to get it fixed with four casualties no need everything under control we ll send squad up wookiee broke loose up here but we ve subdued him there is lot of damage and three no four casualties it would be much easier if you were to tell us where the outposts are otherwise we ll be forced to destroy every suspicious system what waste no it too late we already tested it on organa major it appears your data never got through they ll find its weakness the death star has become operational there is no force in the universe that can stop us now it appears your ship had an accident will see to it that your death is duely reported there will be no one to save you this time you ll get no information from me you have no authority the council can hold me enough already know about the data you ve intercepted but its too late whatever information you ve gathered will be destroyed you will come to know such suffering as only the master of the bogan force can provide if you re as good pilot as you are swordsman we re the ones who have been rewarded don know guess never thought about it just want to help want to be in on the attack want my own ship and you he ll be well cared for are there medical facilities on yavin there ll be time for that later now let get out of here am luke starkiller at your service you re safe we ve come to get you out of here just relax what is it what going on where are we your father dead don ever forget who taking care of you giving you food giving you shelter and giving you the allowance in the first place if you plan to work at the academy the way you work around here you won last very long don want another word finish your dinner then finish cleaning those droids you used my savings you stole my savings if my father were here said we see and as it is was forced to borrow your academy savings to buy the new droids when you ve saved it up again ll let you go but you promised ve saved enough money and now you have the extra help you promised you ll check the condensing unit first and you re not going to bed until those droids are completely cleaned up will but ll have enough time to transmit my application first first thing tomorrow morning you re going to check those condensing units on the south ridge consider it an honor thank you sir your kindness is greatly appreciated but if it at all possible artoo and would like to remain in your service threepio shut down all garbage mashers on your level do you copy threepio shut down all garbage are you there sir we re going holy maker threepio forgot see threepio do you copy wait minute slow down that better they re where they what they are oh no we re going to be mashed into conduit before this is over good we re right above you stand by for the moment we re in the main hangar artoo is trying to plug into the system now are you safe afraid we re not plugged in at the moment sir we ve had some problems you re back what happened never mind what going on read you sir see threepio do you copy send feed back into the control sensors in that detention block level five detention block cell she still alive know sir but it the principle of the thing let him have it you re winning anyway it doesn make any difference well ask him tell him we need five thousand sir have couple of extra circuits perhaps they might bring something think we re going to need them blast it no you re not what kind of talk is that can make it you go on master luke it doesn make sense for you to risk yourself on my account done for can you stand we ve got to get out of here before those tuskens come back what happened sorry sir must have taken bad step well don know what to do now we ll just have to head inland and see if we can find settlement if you don mind my saying so sir don see how anyone could live in this forsaken place according to my father tapes this is the spot where general kenobi lives but the instruments just don match up with the landscape there is no doubt about it we re lost several think there is not much to tell not much more than an interpreter and not very good at telling stories not at making them interesting anyway tell me where you ve been am going to become startrooper and fight in the wars my father was jedi were you in many battles that how we came to be in your service if you take my meaning you ve been in the counter wars against the empire indeed sir sometimes amazed we re in as good shape as we are what with the rebellion and all there lot of carbon scoring here it looks like you boys have seen lot of action thank you sir see threepio human cyborg relations and this is my counterpart artoo detoo that all right there is nothing anyone can do about it you can call me luke sorry sir only droid and not very knowledgeable of such things not on this system anyway as matter of fact not even sure which system we re on not unless you could get me into the military academy at anchorhead»\n\nTest Document (92): «please don kill us please don kill us please don kill us please don kill us yeah it won take long and besides you sassy poodle girls will slow us down agree things like that get lot bloodier than ya think the lions were totally covered in this guy blood think they ate his face off tore open his rib cage pulled his legs off it was wild scene cool oh know ll show you where it at sweetie aren you just so cute all bundled up like cinnamon roll of christmas love know hate swiss cheese the holes make me nervous always hate saying the word cheese every time you get your picture taken smile say cheese any cone yeah hate that word sounds ugly don like crumple either huh what cone cone what maybe maybe maybe hey you know what word hate deadwood is that what it called cool will you show us yeah it tree used to play there all the time but you can find it without me outsider can find no deadwood really wow so it really real thing yeah know where that is it right by my house it dr satan tree can show ya yeah icky this one guy stops and look in and he got his thing out waving it around like drunk monkey yikes yeah most people just whiz on by like was invisible or something or else they re creeps who wanna jam their slimy hands down my pants and twiddle my naughty naughty really that long time whoa thanks for stopping been standing out there in that toad strangling rain for like hundred million years yeah like the screaming too it so much more exciting take his gag out it more fun with the screaming who your daddy who your daddy oh he coming he got something real special this year enjoy your last night where otis drink up it party time no told you come on ma this bitch got it coming baby stop ll cut your fucking tits off and shove em down your throat go tell him to get your grandpa ma tiny in oh he was already gone before seen him but tiny saw him and said he said he was going out to the yard to get new wheel what about tiny home whoopie fucking doo hey great they re back ok sorry maybe the great pumpkin ate em up that not something to joke about oh maybe got into crash and killed everbody what no was worried that was just wondering what taking so long don worry sugar it ain past my bedtime are you flirting with me wonder what time it is seems kind of late ain the only thing tasty in this house mmmmm this is tasty dead one hey um what kind of animal is that you re welcome thank you you sure do lot of guessing um yeah sure guess no there bunch us round somewhere think mamma sleepin she sleeps lot now do you want marshmallows so you live here alone mean with just your brother yeah come on he left oh yeah he already left we ll wait inside come on is your brother ready to go aw you ain seen nothing yet christ you scared the shit out of me ok the door locked ll gotta go around wait here well yeah kind of almost there are you in hurry or something how much further come on don worry ll be right back ok ok whatever let go get your brother truck faster we get the truck faster we get out of here if you keep going straight you can get back on the interstate it easier guess ll try to back it out on the rim at least to the main road go straight up about another mile til we hit cherrypicker road and turn right it ain far from there which way oh yeah the tree what about the tree couple more miles up this road where that aw was going home to my mamma house yeah was out doing this thing yeah ll do something why you gonna do something about it you shouldn done that take that you fucking slut fucking redneck whore fucking great he walks duh oh wonderful fucking psycho just pictured the tire sitting in chair watching tv what the hell are you laughing about was just wondering cause you got pissy look about you like real pussy licking bitch do you believe this fucking girl you know couple of queers what are you two gals all funny with each other wondering what was just wondering can help you with something nice like to see that the animals have got nothing to do with it no he one of god creatures he can help it if he dumb just crazy about animals missing girl use ta go to school with her she just up and disappeared some day real weird what this hey wait take this come on bro let go holy crap thanks keep the change and get yourself new name ummmm two hundred and eighty five dollars great story goober how much actually it ober gerry ober but the guys drew in the other fucking assholes ll bet you do how much we owe ya goober yeah yeah like to fuck shit up yeah well we like to get fucked up and do fucked up shit you know what mean you all sure are buying lot of holy water for two people now what makes you think that you all having halloween party tonight well fuck me side sally who want to read about all that horse shit anyway no no think it really interesting all find us country people real funny like don ya well god damn pack up the mule and sling me some grits ze gotta get me some schooling but suppose for second you did don but if you did don drive cross country you see me and my friends are writing book on offbeat roadside attractions you know all the crazy shit you see when you drive cross country figured that much why the fuck you asking so many jackass questions for yeah was never that big of western fan like science fiction hell boy there some other duke you know about great american you mean john wayne yeah my pa wasn right in the head after that the duke shit don remember exactly took over for my pa just after the duke nabbed the oscar no really how long is piece of string too god damn long that how long how long have you been running this place jesus you think she was really gonna cut you almost there know this is fucking nuts can believe what seeing tasted pretty good didn look like chicken to me more like fried pussy cat hey asked you if you wanted some chicken whatever at this point all care about is food starving and got fucking killer headache oh don worry she didn get offended by what said you two got to lighten up right bill no problem thanks don forget the flashlight it pretty dark out there and the spare is safely sitting in jerry garage tire fucking gone crap on us man there no saving it now you re real fucking piece of work well technically did what ya said jesus christ jerry yeah fixed it well ain um can remember think took it out to fit the bags and forgot to put it back hope you fixed the spare like asked ya gee ya think it wouldn be too much trouble ll help ya ok let relax ll check it maybe wrong don everybody freak out just yet fuck think we blew tire what was that no yeah they ripped him to pieces while his family watched from the car the wife is screaming the kids are crying some dude in another car filmed the whole thing oh yeah heard about that always thought it was bullshit that reminds me of film saw once of guy who got out of his car at lion country safari to take picture of lion cub and got eaten by the lions cat fight cat fight she looks like she stinks way out here it hitchhiker what that come on we need something like this it could be the real deal it too far out of the way to come back to don know not exactly sure it looks close did we pass an abandoned school bus yet how much further keep straight on this road here hell yeah wake up the chicks and bust out the camera awesome really fucking awesome how awesome holy crap you gotta see this place it awesome ok boss ll pump the gas go inside and see if it worth thinking about hope this place is cool we could use something interesting to liven up chapter perfect don panic yourself way too much caffeine guy see sign captain spaulding museum of madmen and monsters cool also fried chicken and gasoline next exit dunno we ll ask around as we get closer man really don want to run out of gas out here in the middle of petticoat junction man yeah no shit just told ya hey you think this place called alien ed ufo welcoming center is still around it says where the fact is separated from the fantasy oh yeah remember now then the devil says are you gay guy says fuck no devil says well then guess you re gonna hate thursdays yeah then the devil asks do you drink guy says yeah devil say wonderful wednesday is free drinks night best booze you ever had all made from the finest stuff shit we really need to find some gas so the guy goes to hell and the devil says do you smoke the guy say yeah the devil say great cause tuesday is cigar night sweetest cuban cigars you ever had hold on ve heard this before but can remember the end hot has got nothing to do with it yeah guess hot chicks are always nuts dude talk about baggage that ain no carry on shit that some heavy duty samsonite shit ll let it slide she was only seventeen thought she tried to murder witness for the prosecution fuck yeah she is join cult to get some of that and the best part is she didn try to kill the president or nothing so that baggage ain hanging around oh yeah forgot about her she was pretty hot as far hot goes gotta go with ruth ann moorehouse yeah no shit if we re talking cute like regular cute say leslie van houton but cute ain hot better than pissing anyway so what your choice there always one kid with no bodily controls we had this dude jeff baxter he was puker the fucker would just sit there puke all over himself yeah but she reminds me of this chick that remember from fourth grade called shit what did we call her oh yeah patty pee pee pants when ever she got called on by miss chumski this chick would piss in her pants and start bawling she pretty cute sqeaky no way she ain that hot really huh thought for sure you say lynette fromme she got that snooty vibe know you dig lock the fucking doors don look back just get in the car suppose mean they re obviously all bonkers but guess they re harmless yeah say at this point all we can do is just wait it out there nothing else man it already ten thirty shit all for being sport but this is ridiculous that food ugh feel like gonna puke just grin and bear it yeah showtime for what what he so excited about mean obviously we will compensate you for your troubles yeah maybe could just tow us and our car to the nearest garage turn that fucking radio off fuck we are fucked he won move honk at him scare him here he comes like sleep it won work drive through it gotta open the gate what are you doing oh sorry bothering you was disturbing your viewing pleasure quiet how much is person supposed to stand just sit back and enjoy the show this is starting to make me real uncomfortable well ya can complain never take you anyplace check this out whatever it is just do it the more we play along the faster we ll get the hell out of here hope to christ she doesn expect us to wear these things don worry ll be quick just stay here no sense everybody getting drenched screw that no way ain letting you go by yourself forget it ll just go fine ll go straight what fine ll go straight what well got some bad news and some bad news let get going before that thing tries to eat the car or something hey he moved then run him over he ll move there not enough room go around him there dog in the road why are we stopping where ya headed sounds like magical trip through the heartland she looks like freak we can leave her out here in the rain maybe we can just drop her at the next rest area should we stop it girl well don even think about playing the good samaritan there way too many psychos wandering loose these days alright alright know wanted to be the photographer we ll need pictures of the inside too enough talk write yeah yeah sure you don have to get all true grit all over my ass ll give to ya you can knock yourself silly for all care how about you give me those same directions yeah they weren here but few minutes didn really have time to get as up close and personal as do with most of the assholes that wander through here is that all think real hard and gave em directions out there up by the old farm row figured what the harm stupid kids probably going out to piss up rope and got themselves turned around backasswards and got lost as shit and aw she was with some nosey smartass high rise kids they were poking around asking stupid questions what you see who was she with where were they going hmmmmmmmmm come on get with the facts you seen this girl say within the last hours well ll try but don know nothing bout nobody guy who likes to mind his own business if ya get what saying what need are some answers officers officers what can do for you today ain fried up the birds yet if that what you re ring ding dinging about yeah remember mr alacard the shop teacher use ta call you little dick wick hey wasn there song we made up to go with that fuck your grandmother hear ya ya hear me you bust that crapper and ll beat your ass can get some stamps off ya did you fix the toilet yet yeah now there the perfect woman nova yeah she looked pretty sweet always loved that mute broad that chuck heston was shacking up with had to take him to the hospital kid had dr zaius stuck half way up his butt couldn get it out goddamn naw he don do anything else with em but he did get caught once with planet of the apes doll hanging out his asshole sure that ain the only place he sticking those pencils yeah doesn hurt himself just spins it around next to his eyeball what yeah guess you know next to wacking his weasel his other favorite thing is twisting sharpened pencils in the corner of his eyes worse than fucking rabid baboon well yeah think that if you knew him mean if you understand his urges shit the guy like forty or something christ ain they all all them retards wanna do is fuck and eat that kid is one horny retard fascinating yeah he all hot on her after he found some of his dad old nudie books hidden in the basement he keeps em taped inside his school workbook the retard over at molly fruit stand shit this ain worth nothing now that my name gotten all over it was fixin on trading it to jackie cobb hmmmmm got back stack today some nice shots see good topless june wilkinson unfortunately she personalized it to stucky love june he tried to burn the house down said it was possessed by the spirits tiny was sleeping in the basement where the fire started don think earl ever meant to harm us but tiny was badly burnt his ears were destroyed and most of his skin what happened oh sorry it none of my business yeah my poor baby it his daddy fault mean earl was good man mean he never hit me or nothing but one day he just got up and went pure devil on us all oh you ll have to forgive tiny he can hear so much no dear fine now what kind of host would be if put my guests to this kind of work you sure you don need any help in there how he get around out here tiny ain got no car he ain even got bicycle he should be back in couple hours how long is that gonna take yeah guess ll just help him hand out candy to the trick or treaters that nice no he just joking we don really have any plans other than spending the night at my dad house which is where we were headed when our car broke down no none had one once back in maybe don know really ain nobody we wanna be jaw flapping at around here no more huh oh hi you really don have phone help help us someone is out there help we re in here that not me didn not doing that that was good babe just keep doing that know but we can make it out of here we can do it can can move my arms hurt so much think think try to open the lid try to kick hole in the wood we ve got get out of here we got get out of here shhhhhh you gotta be kidding me this chick is wasted this isn funny it twisted don know think he funny what are you laughing at shhhhhh hey just waiting for cousin itt to show up really now is not the time to make waves yes thank you thank you very much thank you dude your chick little high strung thanks for coming to get us little brother almost scared us to death hey nice outfit billy bob when you were outside with bill when yeah jerry she said some pretty fucked shit to us don just thought it was weird you know what jerry who really cares at this point don know just thought it was interesting so what these dates perfectly correspond with the time frame of our beloved dr satan working at the looney bin ll bet he amputated her arms yeah blah blah blah it doesn say but she was released sometime in only to reappear as ellie bogdan the arm less wonder says she criss crossed the united states constantly in carnivals and freak shows until her death in why now she was put in the nuthouse in at the age of so it says records show that ellie thompson was born in of normal physical stature and lived life of normal bearings until such time that she was placed in the care of the willows state mental facility yeah so how does that fit with the story of four morons with flat tire looking for dead tree yeah in this book there chapter called self made freaks about how people would mutilate themselves in order to work in freak show it mostly talks about tattooed people and wild men of borneo and shit like that but there is one mention of single case where woman was suspected of having her arms removed on purpose to become an arm less wonder oh yeah hey listen to this think this is related to our dr satan fuck it freezing that seems likely hey maybe she knows where this is fried chicken anybody want some ugh what that smell oh yeah murder museum sounds fun aw come on it will be fun don want to see that this isn everything get ready for this there museum of murder and mayhem tickets for what great you re back let go we already paid for the tickets grab mary and come inside huh well just promise me you ll be careful alright alright see ya soon good bye hopefully can move things along here and make up the lost time by speeding all the way home yes dad kidding well don take too long the kids are already knocking down the door demanding their sugar fix know know forgot to mention that halloween falls on school night so they re trick or treating tonight got the joint decked out this year built graveyard in the front yard like when you were kid yeah well he still here think him and jerry are fast becoming buddies you know jerry yeah he gotta see everything yeah know thinks there some unsolved mystery around every corner oh yeah yeah ve driven by that place before seem to remember crabby old bastard in crummy clown suit running the place no nothing like that yeah we re gonna be little late we stopped for gas at this place called capt spaulding outside of ruggsville and it turned into whole thing so we re kind of behind schedule hello hey denise what what wrong did you break down yeah it really your fault that we re stuck in this shithole in the first place don be such fucking smart ass can tiny drive us to phone couple hours bill why don you ask her she your special friend excuse me may please use your phone think gonna have fucking heart attack jesus christ turn on the headlights see if anything is out there still don shhhhhh quiet don hear anything wait quiet turn off the radio what didn hear anything what was that don know about half an hour how long has it been yeah she said we looked queer she said we look like pussy lickers or some shit like that can believe think going fucking crazy god damn it knew this witch hunt was fucking bullshit you got to be fucking joking don even say it she looks like she stinks stick her in the front if you want to pick her up so bad she soaked aw christ jerry we can see anything now it too dark let forget it let just skip it it is probably nothing anyway maybe he cyborg never swear to god he never sleeps he goes to bed after me wakes up before me he always working on geez he never gets tired does he exactly well guess couple more photos won kill me scattered smothered and covered if never eat at another waffle house again can die happy girl decent meal every once in while wouldn hurt either this road food is crap know that was some crazy shit never in million years would have believed it if hadn seen it yeah hit burn out mode back at that old stripper lady place watching her dance around with those ratty looking animals was ridiculous it will be nice to have few days off to regenerate this trip is fun but it starting to get brutal yeah hey how far do you think we are from your dad god hate falling asleep in the afternoon now ll be up all night ugh my back is killing me tell me about it swear ve aged five years since this trip started aw shit gotta pee anyway aw it ain crap it cute and really who are we to judge the artistic merit of the tin can mona lisa christ hope this isn more crappy folk art it so quaint it so primal it so crap too late you re in for life let move it out private shutterbug resign let go you re the one who wanted to be photographer no please let me sit this one out rise and shine sleeping come on sleeping beauty time to go to work yep found something you find something georgie god damn yep suppose it is that the understatement of the year just in the wrong place at the wrong time shit wonder what these kids did to bring this much hell down on em not yet recover any bodies yeah no mercy here holy jesus somebody had themselves field day beating the shit outta this thing vehicle registered to william hudley what we here georgie yes sir open up the trunk huh well christ boy don stand there like prize dog dick with his butthole caught up tree keys what ya got there aw honey you know can do that please let us go we won tell anybody bye sweety we could of been great together great no no no it so much more special than that you ll see you ll be the first to ever see think this is something you ll really love oh you mean on tv for the show it halloween eve and time for our show firefly mmmmm odd name mrs firefly do you know anything about the legend of dr satan firefly ve been meaning to ask you mrs ummmm didn ya think mary maybe he real lady killer great thought felt certain attraction between mary and tiny soon as he walked in was just kidding ll bet you are you are naughty little thing aren ya and gonna help put the razor blades in the candy apples don doubt that oh really well pretty good dancer if you know what mean bet got few moves you ain never seen well thought maybe take in hoedown so what brings you kids way out here ain you got something better to do for halloween than wander around out here in the sticks um jerry that bill denise and mary what do they call you sweety oh right his name is rufus rufus jr but we all call him hey maybe the guy with the tow truck could drive us to phone negative shit we are so deep in the sticks we could walk for hours and find zero with denise can we just walk to someplace this is getting fucking stupid know the words fucking psycho fucking bullshit that the words this is way too fucked up for words enough with the stupid voices ok lassies think it time you get to gripping reality what hold on hold on everybody calm down it the tow truck guy you didn see the look she threw me she up to something oh don blow everything out of proportion that stupid hillbilly slut huh god damn it must be fucking crazy to let him go off with that crazy fucking bitch you said it not me ll go it my fault think we should go straight mean we know for fact there ain nothing back that way right just back up huh we hit the jackpot let roll good buddy we got ourselves convoy shit it is only sprinkling and it worth the trouble hold on for two seconds aw come on jerry we ve gotten all we re gonna get out of this place and its starting to rain gonna go ask him don worry gone suggest you kids leave now well even though know it seems childish to you all tonight is halloween eve and it special to us so you are all invited to stay for dinner sorry know you re my guests and welcome but please advise you to keep from cussing while in my house thank you oh really well hope something changes your mind some day no just little too old oh get it guess you think you re too good for the simple pleasures of halloween you my dear worm feeder are about to become immortalized what are you doing no stop please please oh come now we re all creatures of god and freaks in our own way but if you ll notice right here needs little something heh fuck you you fucking freak oh it real as real as want it to be mamma look see the magic in my brush strokes this can be real this can be real this can be real behold the fish boy let go see where is he well bill he good guy he been great help to me real blessing couldn have asked for better specimen mean you don know what dry spell ve had total block total block but bill he ok where bill doing what messy up your day well fuck lady there are some bigger issues at hand than your fucking have nice fucking day bumper sticker shit why why are you doing this no can say that ever seen em before he looks familiar is he on tv think do any of these kids look familiar in any way oh you are very welcome lord knows how love man in uniform thank you oh alright guess can trust you being man of the law and all please just minute um no don think so please could please come in and talk to you for minute maybe you could take better look at the picture might stir up something well mmmmm no ain seen her sorry appreciate your cooperation looking for missing girl this girl here denise willis have you seen her questions well heck ll tell you anything you want to know my name is lt wydell like to ask you few questions aw you ain disturbing me but it kind of looks like rain don ya think excuse me sorry for disturbing you this fine afternoon well hello officer well go get her that true otis not that we re having bad time but wait want to say good bye get in now yes the one who beats you when you re bad who your daddy the one who brings the devil brandy go down stairs and play nice gonna go round back and handle things like always fucking do what should do sure there more than that fucking pigs always travel in packs here take this don know only saw one what god damn how many otis otis come quick there cops outside ain sure that you really need to know it better you go home still dreaming about your kitty cats and puppy dogs grampa watch the language right fuck go to the car call for backup tell em officer down call wydell jesus christ shit fuck procedure tell it to my daughter ain got warrant we gotta break it open over here inside the smokehouse yeah hear it where it coming from shhhh you hear that shit don these packrat hillbillies throw anything away where we headed turn up this road my denise is smart girl she wouldn do anything stupid and her boyfriend he always seemed like good kid no they couldn somebody had to see something christ four kids couldn just disappear no not really good kid never been in any trouble fit the profile local girl karen murphy been missing for couple months figured for runaway george willis any leads hey pray to god there is sure there logical explanation christ you know it crazy lived through so many other people nightmares you know always cool and calm but but never thought be the one needing help ya know her part in this can figure but will oh yeah you know about that hmmm that strange one what about the body you found dr satan well all we know is the kids were headed out to spot the locals call deadwood to play nancy drew with some local legend about this character everybody calls dr satan that it well we were on our way out to run check on couple farmhouses out on the edge of town closest thing we got to lead at this point wydell this is naish yes sir mr willis we found one over excuse me for second wydell right come on gonna see if anybody home you and mr willis take look around the grounds for any sign of anything let hit the road sooner we get move on sooner we ll find her don worry we ll find her anyway there not much else out that way so figure maybe there chance the kids broke down and found their way over to one of the farms yeah it horseshit just some boogieman crap that the kids like to scare each other with that must be him guess not yeah well guess it tough to sit on the sidelines and wait when your own kid missing besides ain no such thing as an ex cop sounds like bad idea to me probally just get in the way chief said pick him up and take him with us on our house to house guy an ex cop thinks he can help you sure this guy supposed to ride with us seems kind of weird call the chief we found em plates match what aw fuck hulk was dumb as shit always favored the hulk you know his senses start tingling when he was approaching danger and shit how old do you think am know who the fuck spider man is get to your point you know your hyper sensitive spidey senses like spider man you know like in the comics yeah huh what the hell are you talking about your spidey senses tingling hope you re right but my guts are telling me different boss the way see it is these kids probally stop off somewhere bought bunch of booze and are off getting shitfaced right well let go see if the nut that runs this place can help us»\n\n"
     ]
    }
   ],
   "source": [
    "print('Test Document ({}): «{}»\\n'.format(7821, ' '.join(test_corpus[get_corpus_index(test_corpus, 7821)].words)))\n",
    "\n",
    "print('Test Document ({}): «{}»\\n'.format(529, ' '.join(train_corpus[get_corpus_index(train_corpus, 529)].words)))\n",
    "\n",
    "print('Test Document ({}): «{}»\\n'.format(92, ' '.join(train_corpus[get_corpus_index(train_corpus, 92)].words)))"
   ]
  },
  {
   "cell_type": "code",
   "execution_count": 28,
   "metadata": {},
   "outputs": [
    {
     "name": "stdout",
     "output_type": "stream",
     "text": [
      "Character COP from frances\nCharacter ID :947   |tf-idf                                  |doc2vec\nRecommendation 1    |frances                                 |detroit rock city\nRecommendation 2    |the lost son                            |sugar & spice\nRecommendation 3    |casino                                  |drop dead gorgeous\nRecommendation 4    |suburbia                                |bull durham\nRecommendation 5    |my girl 2                               |monkeybone\nRecommendation 6    |magnolia                                |hudson hawk\nRecommendation 7    |the big lebowski                        |stepmom\nRecommendation 8    |u turn                                  |heathers\nRecommendation 9    |punch-drunk love                        |love & basketball\nRecommendation 10   |barton fink                             |south park: bigger longer & uncut\n"
     ]
    }
   ],
   "source": [
    "# u163 +++$+++ m11 +++$+++ IRAQI SOLDIER\n",
    "test_id = 947\n",
    "tmp_train_corpus = tfidf_train_corpus + tfidf_get_character_lines(947)\n",
    "test_data = StringIO(tmp_train_corpus)\n",
    "ds = pd.read_csv(test_data)\n",
    "_train(ds)\n",
    "\n",
    "tfidf_result = predict(test_id, 10)\n",
    "doc2vec_result = get_doc2vec_similarity(test_id)\n",
    "\n",
    "test_character_metadata = get_character_metadata(test_id)\n",
    "print(\"Character {} from {}\".format(test_character_metadata[1], test_character_metadata[3]))\n",
    "\n",
    "display_results = []\n",
    "display_results.append([\"Character ID :\" + str(test_id), \"tf-idf\", \"doc2vec\"])\n",
    "\n",
    "for idx, item in enumerate(doc2vec_result):   \n",
    "    display_results.append(['Recommendation ' + str(idx+1), get_movie_title(tfidf_result[idx][0]), get_movie_title(item[0])])\n",
    "\n",
    "for item in display_results:\n",
    "    print(item[0]+\" \"*(20-len(item[0]))+\"|\"+\n",
    "          item[1]+\" \"*(40-len(item[1]))+\"|\"+\n",
    "          item[2])"
   ]
  },
  {
   "cell_type": "code",
   "execution_count": null,
   "metadata": {},
   "outputs": [],
   "source": [
    ""
   ]
  }
 ],
 "metadata": {
  "kernelspec": {
   "display_name": "Python 2",
   "language": "python",
   "name": "python2"
  },
  "language_info": {
   "codemirror_mode": {
    "name": "ipython",
    "version": 2.0
   },
   "file_extension": ".py",
   "mimetype": "text/x-python",
   "name": "python",
   "nbconvert_exporter": "python",
   "pygments_lexer": "ipython2",
   "version": "2.7.6"
  }
 },
 "nbformat": 4,
 "nbformat_minor": 0
}