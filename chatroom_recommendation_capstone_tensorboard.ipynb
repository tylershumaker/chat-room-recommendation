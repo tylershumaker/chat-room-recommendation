{
 "cells": [
  {
   "cell_type": "markdown",
   "metadata": {
    "collapsed": true
   },
   "source": [
    "# Machine Learning Nanodegree Capstone\n",
    "# Chat Room Recommendation Data Visualizations"
   ]
  },
  {
   "cell_type": "code",
   "execution_count": 1,
   "metadata": {},
   "outputs": [],
   "source": [
    "import os"
   ]
  },
  {
   "cell_type": "code",
   "execution_count": 2,
   "metadata": {},
   "outputs": [],
   "source": [
    "# path will need to be changed pending on where the repo is cloned to\n",
    "os.chdir(os.path.expanduser('~/PycharmProjects/chat-room-recommendation/'))\n",
    "lines = open('cornell-movie-dialogs-corpus/movie_lines.txt','r').read().split('\\n')\n",
    "movie_metadata = open('cornell-movie-dialogs-corpus/movie_titles_metadata.txt','r').read().split('\\n')"
   ]
  },
  {
   "cell_type": "code",
   "execution_count": 3,
   "metadata": {},
   "outputs": [
    {
     "name": "stderr",
     "output_type": "stream",
     "text": [
      "Using TensorFlow backend.\n"
     ]
    }
   ],
   "source": [
    "from gensim import utils\n",
    "movieLines = {}\n",
    "for line in lines:\n",
    "    _line = line.split(' +++$+++ ')\n",
    "    if len(_line) == 5:\n",
    "        if _line[2] in movieLines: \n",
    "            movieLines[_line[2]] = movieLines.get(_line[2]) + utils.simple_preprocess(_line[4])\n",
    "        else:\n",
    "            movieLines[_line[2]] = utils.simple_preprocess(_line[4])"
   ]
  },
  {
   "cell_type": "code",
   "execution_count": 4,
   "metadata": {},
   "outputs": [],
   "source": [
    "# function that creates corpus (list of TaggedDocmuments) from dictionaries\n",
    "from gensim.models.doc2vec import TaggedDocument\n",
    "\n",
    "\n",
    "def create_corpus(dictname):\n",
    "    corpus_list =[]\n",
    "    for key, value in dictname.iteritems():\n",
    "        corpus_list.append(TaggedDocument(value, [int(key[1:])]))\n",
    "    return corpus_list"
   ]
  },
  {
   "cell_type": "code",
   "execution_count": 5,
   "metadata": {},
   "outputs": [],
   "source": [
    "train_corpus = create_corpus(movieLines)"
   ]
  },
  {
   "cell_type": "code",
   "execution_count": 6,
   "metadata": {},
   "outputs": [
    {
     "data": {
      "text/plain": [
       "[511]"
      ]
     },
     "execution_count": 6,
     "metadata": {},
     "output_type": "execute_result"
    }
   ],
   "source": [
    "train_corpus[0].tags"
   ]
  },
  {
   "cell_type": "code",
   "execution_count": 7,
   "metadata": {},
   "outputs": [],
   "source": [
    "# import pandas as pd\n",
    "# from StringIO import StringIO\n",
    "# \n",
    "# data = StringIO(train_corpus)\n",
    "# ds = pd.read_csv(data)"
   ]
  },
  {
   "cell_type": "code",
   "execution_count": 8,
   "metadata": {},
   "outputs": [],
   "source": [
    "# load model if saved during a previous session\n",
    "from gensim.models import Doc2Vec\n",
    "\n",
    "model = Doc2Vec.load('/tmp/movie_model.doc2vec')"
   ]
  },
  {
   "cell_type": "code",
   "execution_count": 9,
   "metadata": {},
   "outputs": [],
   "source": [
    "model.save_word2vec_format('/tmp/doc_tensor.w2v', doctag_vec=True, word_vec=False)"
   ]
  },
  {
   "cell_type": "code",
   "execution_count": 10,
   "metadata": {},
   "outputs": [
    {
     "name": "stderr",
     "output_type": "stream",
     "text": [
      "2017-09-21 22:20:48,531 : MainThread : INFO : running word2vec2tensor.py -i /tmp/doc_tensor.w2v -o cornell-movie\n"
     ]
    },
    {
     "name": "stderr",
     "output_type": "stream",
     "text": [
      "2017-09-21 22:20:48,555 : MainThread : INFO : loading projection weights from /tmp/doc_tensor.w2v\n"
     ]
    },
    {
     "name": "stderr",
     "output_type": "stream",
     "text": [
      "2017-09-21 22:20:48,763 : MainThread : INFO : loaded (617, 50) matrix from /tmp/doc_tensor.w2v\n"
     ]
    },
    {
     "name": "stderr",
     "output_type": "stream",
     "text": [
      "2017-09-21 22:20:48,938 : MainThread : INFO : 2D tensor file saved to cornell-movie_tensor.tsv\n"
     ]
    },
    {
     "name": "stderr",
     "output_type": "stream",
     "text": [
      "2017-09-21 22:20:48,941 : MainThread : INFO : Tensor metadata file saved to cornell-movie_metadata.tsv\n"
     ]
    },
    {
     "name": "stderr",
     "output_type": "stream",
     "text": [
      "2017-09-21 22:20:48,946 : MainThread : INFO : finished running word2vec2tensor.py\n"
     ]
    }
   ],
   "source": [
    "%run word2vec2tensor.py -i /tmp/doc_tensor.w2v -o cornell-movie"
   ]
  },
  {
   "cell_type": "code",
   "execution_count": 11,
   "metadata": {},
   "outputs": [],
   "source": [
    "titles = []\n",
    "comedy = []\n",
    "romance = []\n",
    "adventure = []\n",
    "biography = []\n",
    "drama = []\n",
    "history = []\n",
    "action = []\n",
    "crime = []\n",
    "thriller = []\n",
    "mystery = []\n",
    "scifi = []\n",
    "fantasy = []\n",
    "western = []\n",
    "music = []\n",
    "war = []\n",
    "family = []\n",
    "sport = []\n",
    "documentary = []\n",
    "short = []\n",
    "\n",
    "\n",
    "def get_movie_meta(id):\n",
    "    for movie in movie_metadata:\n",
    "        _movie = movie.split(' +++$+++ ')\n",
    "        if len(_movie) == 6:\n",
    "\n",
    "            if _movie[0] == 'm'+str(id):\n",
    "                titles.append(_movie[1])\n",
    "                _genres = _movie[5].replace(\"'\", \"\").replace(\" \", \"\").strip(\"[]\").split(\",\")\n",
    "                 \n",
    "                is_comedy = \"+\" if 'comedy' in _genres else \"-\"\n",
    "                comedy.append(is_comedy)\n",
    "                \n",
    "                is_romance = \"+\" if 'romance' in _genres else \"-\"\n",
    "                romance.append(is_romance)\n",
    "                \n",
    "                is_adventure = \"+\" if 'adventure' in _genres else \"-\"\n",
    "                adventure.append(is_adventure)\n",
    "                    \n",
    "                is_biography = \"+\" if 'biography' in _genres else \"-\"\n",
    "                biography.append(is_biography)    \n",
    "                \n",
    "                is_drama = \"+\" if 'drama' in _genres else \"-\"\n",
    "                drama.append(is_drama)                   \n",
    "\n",
    "                is_history = \"+\" if 'history' in _genres else \"-\"\n",
    "                history.append(is_history)  \n",
    "                \n",
    "                is_action = \"+\" if 'action' in _genres else \"-\"\n",
    "                action.append(is_action)       \n",
    " \n",
    "                is_crime = \"+\" if 'crime' in _genres else \"-\"\n",
    "                crime.append(is_crime)                   \n",
    "                \n",
    "                is_thriller = \"+\" if 'thriller' in _genres else \"-\"\n",
    "                thriller.append(is_thriller)      \n",
    "                \n",
    "                is_mystery = \"+\" if 'mystery' in _genres else \"-\"\n",
    "                mystery.append(is_mystery)   \n",
    "                \n",
    "                is_scifi = \"+\" if 'sci-fi' in _genres else \"-\"\n",
    "                scifi.append(is_scifi)      \n",
    "                \n",
    "                is_fantasy = \"+\" if 'fantasy' in _genres else \"-\"\n",
    "                fantasy.append(is_fantasy)    \n",
    "                \n",
    "                is_western = \"+\" if 'western' in _genres else \"-\"\n",
    "                western.append(is_western) \n",
    "                \n",
    "                is_music = \"+\" if 'music' in _genres else \"-\"\n",
    "                music.append(is_music)      \n",
    "                \n",
    "                is_war = \"+\" if 'war' in _genres else \"-\"\n",
    "                war.append(is_war)    \n",
    "                \n",
    "                is_family = \"+\" if 'family' in _genres else \"-\"\n",
    "                family.append(is_family)            \n",
    "                \n",
    "                is_sport = \"+\" if 'sport' in _genres else \"-\"\n",
    "                sport.append(is_sport)   \n",
    "                \n",
    "                is_documentary = \"+\" if 'documentary' in _genres else \"-\"\n",
    "                documentary.append(is_documentary) \n",
    "                \n",
    "                is_short = \"+\" if 'short' in _genres else \"-\"\n",
    "                short.append(is_short)"
   ]
  },
  {
   "cell_type": "code",
   "execution_count": 12,
   "metadata": {
    "collapsed": false
   },
   "outputs": [],
   "source": [
    "train_corpus[0].tags\n",
    "for movie in train_corpus:\n",
    "    get_movie_meta(movie.tags[0])"
   ]
  },
  {
   "cell_type": "code",
   "execution_count": 15,
   "metadata": {},
   "outputs": [
    {
     "name": "stdout",
     "output_type": "stream",
     "text": [
      "511\n510\n['shakespeare in love', 'seven days to live']\n['+', '-']\n['+', '-']\n['+', '+']\n617\n"
     ]
    }
   ],
   "source": [
    "# check to see if metadata was created correctly\n",
    "print train_corpus[0].tags[0]\n",
    "print train_corpus[1].tags[0]\n",
    "print titles[:2]\n",
    "print comedy[:2]\n",
    "print romance[:2]\n",
    "print drama[:2]\n",
    "print len(drama)"
   ]
  },
  {
   "cell_type": "code",
   "execution_count": 16,
   "metadata": {},
   "outputs": [],
   "source": [
    "with open('cornell-movie_metadata.tsv','w') as w:\n",
    "    w.write('Titles\\tComedy\\tRomance\\tAdventure\\tBiography\\tDrama\\tHistory\\tAction\\tCrime\\tThriller\\tMystery\\tScifi'\n",
    "            +'\\tFantasy\\tWestern\\tMusic\\tWar\\tFamily\\tSport\\tDocumentary\\tShort\\n')\n",
    "    for f,g,h,i,j,k,l,m,n,o,p,q,r,s,t,u,v,x,y,z in zip(titles, comedy, romance, adventure, \n",
    "                   biography, drama, history, action,\n",
    "                   crime, thriller, mystery, scifi, \n",
    "                   fantasy, western, music, war, family, \n",
    "                   sport, documentary, short):\n",
    "        w.write(\"%s\\t%s\\t%s\\t%s\\t%s\\t%s\\t%s\\t%s\\t%s\\t%s\\t%s\\t%s\\t%s\\t%s\\t%s\\t%s\\t%s\\t%s\\t%s\\t%s\\n\" % (f,g,h,i,j,k,l,m,n,o,p,q,r,s,t,u,v,x,y,z))"
   ]
  },
  {
   "cell_type": "code",
   "execution_count": 17,
   "metadata": {},
   "outputs": [
    {
     "data": {
      "image/png": "[encoded data removed]",
      "text/plain": [
       "<matplotlib.figure.Figure at 0x7f3939522490>"
      ]
     },
     "metadata": {},
     "output_type": "display_data"
    }
   ],
   "source": [
    "import matplotlib.pyplot as plt; plt.rcdefaults()\n",
    "import numpy as np\n",
    "import matplotlib.pyplot as plt\n",
    "\n",
    "objects = ('comedy', 'romance', 'adventure', 'biography', 'drama', 'history',\n",
    "           'action', 'crime', 'thriller', 'mystery', 'scifi', 'fantasy', 'western',\n",
    "           'music', 'war', 'family', 'sport', 'documentary', 'short')\n",
    "\n",
    "y_pos = np.arange(len(objects))\n",
    "\n",
    "genre_count = [sum(g == \"+\" for g in comedy), sum(g == \"+\" for g in romance), \n",
    "               sum(g == \"+\" for g in adventure), sum(g == \"+\" for g in biography),\n",
    "               sum(g == \"+\" for g in drama), sum(g == \"+\" for g in history),\n",
    "               sum(g == \"+\" for g in action), sum(g == \"+\" for g in crime),\n",
    "               sum(g == \"+\" for g in thriller), sum(g == \"+\" for g in mystery),\n",
    "               sum(g == \"+\" for g in scifi), sum(g == \"+\" for g in fantasy),\n",
    "               sum(g == \"+\" for g in western), sum(g == \"+\" for g in music),\n",
    "               sum(g == \"+\" for g in war), sum(g == \"+\" for g in family),\n",
    "               sum(g == \"+\" for g in sport), sum(g == \"+\" for g in documentary),\n",
    "               sum(g == \"+\" for g in short)]\n",
    "\n",
    "plt.barh(y_pos, genre_count, align='center', alpha=0.5)\n",
    "plt.yticks(y_pos, objects)\n",
    "plt.xlabel(\"Number of movies\")\n",
    "plt.title('Number of movies per genre in corpus')\n",
    "\n",
    "plt.show()"
   ]
  },
  {
   "cell_type": "code",
   "execution_count": null,
   "metadata": {},
   "outputs": [],
   "source": [
    ""
   ]
  }
 ],
 "metadata": {
  "kernelspec": {
   "display_name": "Python 2",
   "language": "python",
   "name": "python2"
  },
  "language_info": {
   "codemirror_mode": {
    "name": "ipython",
    "version": 2.0
   },
   "file_extension": ".py",
   "mimetype": "text/x-python",
   "name": "python",
   "nbconvert_exporter": "python",
   "pygments_lexer": "ipython2",
   "version": "2.7.6"
  }
 },
 "nbformat": 4,
 "nbformat_minor": 0
}